{
 "cells": [
  {
   "cell_type": "markdown",
   "metadata": {},
   "source": [
    "# Challenge 3"
   ]
  },
  {
   "cell_type": "markdown",
   "metadata": {},
   "source": [
    "You are presented with an integer number larger than 5. Your goal is to identify the longest side\n",
    "possible in a right triangle whose sides are not longer than the number you are given.\n",
    "\n",
    "For example, if you are given the number 15, there are 3 possibilities to compose right triangles:\n",
    "\n",
    "1. [3, 4, 5]\n",
    "2. [6, 8, 10]\n",
    "3. [5, 12, 13]\n",
    "\n",
    "The following function shows one way to solve the problem but the code is not ideal or efficient.\n",
    "Refactor the code based on what you have learned about code simplicity and efficiency."
   ]
  },
  {
   "cell_type": "code",
   "execution_count": 22,
   "metadata": {
    "ExecuteTime": {
     "end_time": "2020-02-16T11:58:02.146305Z",
     "start_time": "2020-02-16T11:57:59.109752Z"
    }
   },
   "outputs": [
    {
     "name": "stdout",
     "output_type": "stream",
     "text": [
      "What is the maximal length of the triangle side? Enter a number: 50\n",
      "[[5, 4, 3], [10, 6, 8], [10, 8, 6], [13, 5, 12], [13, 12, 5], [15, 9, 12], [15, 12, 9], [17, 8, 15], [17, 15, 8], [20, 12, 16], [20, 16, 12], [25, 7, 24], [25, 15, 20], [25, 20, 15], [25, 24, 7], [26, 10, 24], [26, 24, 10], [29, 20, 21], [29, 21, 20], [30, 18, 24], [30, 24, 18], [34, 16, 30], [34, 30, 16], [35, 21, 28], [35, 28, 21], [37, 12, 35], [37, 35, 12], [39, 15, 36], [39, 36, 15], [40, 24, 32], [40, 32, 24], [41, 9, 40], [41, 40, 9], [45, 27, 36], [45, 36, 27]]\n",
      "The longest side possible is 45\n"
     ]
    }
   ],
   "source": [
    "def my_function(X):\n",
    "    solutions = []\n",
    "    for x in range(5, X):\n",
    "        for y in range(4, X):\n",
    "            for z in range(3, X):\n",
    "                if (x*x==y*y+z*z):\n",
    "                    solutions.append([x, y, z])\n",
    "    \n",
    "#     print(solutions)\n",
    "    m = 0\n",
    "    for solution in solutions:\n",
    "        if m < max(solution):\n",
    "            m = max(solution)\n",
    "    return m\n",
    "\n",
    "X = input(\"What is the maximal length of the triangle side? Enter a number: \")\n",
    "\n",
    "print(\"The longest side possible is \" + str(my_function(int(X))))"
   ]
  },
  {
   "cell_type": "code",
   "execution_count": 53,
   "metadata": {
    "ExecuteTime": {
     "end_time": "2020-02-16T12:35:25.923060Z",
     "start_time": "2020-02-16T12:35:23.832296Z"
    }
   },
   "outputs": [
    {
     "name": "stdout",
     "output_type": "stream",
     "text": [
      "What is the maximal length of the triangle side? Enter a number: 50\n",
      "The longest side possible is 48\n"
     ]
    }
   ],
   "source": [
    "import numpy as np\n",
    "\n",
    "def largo_triangulo(limit=None):\n",
    "    # triplet: a^2 + b^2 = c^2 \n",
    "    lado_a = lado_b = lado_c = 0\n",
    "\n",
    "    lado_m = 2\n",
    "#     solution = []\n",
    "    solution_sum = []\n",
    "    while(lado_a+lado_b+lado_c<=limit):\n",
    "        for lado_n in range(1,lado_m):\n",
    "            lado_a = lado_m * lado_m - lado_n * lado_n\n",
    "            lado_b = 2 * lado_m * lado_n\n",
    "            lado_c = lado_m * lado_m + lado_n * lado_n\n",
    "            largo_tri = [lado_a, lado_b, lado_c]\n",
    "            if (np.sum(largo_tri)<=limit):\n",
    "#                 solution.append(largo_tri)\n",
    "                solution_sum.append(np.sum(largo_tri))\n",
    "        lado_m+=1\n",
    "#     print(solution)\n",
    "    return(np.max(solution_sum))\n",
    "\n",
    "int_input = input(\"What is the maximal length of the triangle side? Enter a number: \")\n",
    "\n",
    "print(f\"The longest side possible is {largo_triangulo(int(int_input))}\")\n"
   ]
  }
 ],
 "metadata": {
  "kernelspec": {
   "display_name": "Python 3",
   "language": "python",
   "name": "python3"
  },
  "language_info": {
   "codemirror_mode": {
    "name": "ipython",
    "version": 3
   },
   "file_extension": ".py",
   "mimetype": "text/x-python",
   "name": "python",
   "nbconvert_exporter": "python",
   "pygments_lexer": "ipython3",
   "version": "3.7.1"
  },
  "latex_envs": {
   "LaTeX_envs_menu_present": true,
   "autoclose": false,
   "autocomplete": true,
   "bibliofile": "biblio.bib",
   "cite_by": "apalike",
   "current_citInitial": 1,
   "eqLabelWithNumbers": true,
   "eqNumInitial": 1,
   "hotkeys": {
    "equation": "Ctrl-E",
    "itemize": "Ctrl-I"
   },
   "labels_anchors": false,
   "latex_user_defs": false,
   "report_style_numbering": false,
   "user_envs_cfg": false
  },
  "toc": {
   "base_numbering": 1,
   "nav_menu": {},
   "number_sections": true,
   "sideBar": true,
   "skip_h1_title": false,
   "title_cell": "Table of Contents",
   "title_sidebar": "Contents",
   "toc_cell": false,
   "toc_position": {},
   "toc_section_display": true,
   "toc_window_display": false
  },
  "varInspector": {
   "cols": {
    "lenName": 16,
    "lenType": 16,
    "lenVar": 40
   },
   "kernels_config": {
    "python": {
     "delete_cmd_postfix": "",
     "delete_cmd_prefix": "del ",
     "library": "var_list.py",
     "varRefreshCmd": "print(var_dic_list())"
    },
    "r": {
     "delete_cmd_postfix": ") ",
     "delete_cmd_prefix": "rm(",
     "library": "var_list.r",
     "varRefreshCmd": "cat(var_dic_list()) "
    }
   },
   "types_to_exclude": [
    "module",
    "function",
    "builtin_function_or_method",
    "instance",
    "_Feature"
   ],
   "window_display": false
  }
 },
 "nbformat": 4,
 "nbformat_minor": 2
}
