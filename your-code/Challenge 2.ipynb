{
 "cells": [
  {
   "cell_type": "markdown",
   "metadata": {},
   "source": [
    "# Challenge 2"
   ]
  },
  {
   "cell_type": "markdown",
   "metadata": {},
   "source": [
    "The code below generates a given number of random strings that consists of numbers and \n",
    "lower case English letters. You can also define the range of the variable lengths of\n",
    "the strings being generated.\n",
    "\n",
    "The code is functional but has a lot of room for improvement. Use what you have learned\n",
    "about simple and efficient code, refactor the code."
   ]
  },
  {
   "cell_type": "code",
   "execution_count": 1,
   "metadata": {
    "ExecuteTime": {
     "end_time": "2020-02-14T23:47:46.294592Z",
     "start_time": "2020-02-14T23:47:46.284373Z"
    }
   },
   "outputs": [],
   "source": [
    "def RandomStringGenerator(l=12, a=['a','b','c','d','e','f','g','h','i','j','k','l','m','n','o','p','q','r','s','t','u','v','w','x','y','z','0','1','2','3','4','5','6','7','8','9']):\n",
    "    p = 0\n",
    "    s = ''\n",
    "    while p<l:\n",
    "        import random\n",
    "        s += random.choice(a)\n",
    "        p += 1\n",
    "    return s"
   ]
  },
  {
   "cell_type": "code",
   "execution_count": 2,
   "metadata": {
    "ExecuteTime": {
     "end_time": "2020-02-14T23:50:27.992344Z",
     "start_time": "2020-02-14T23:50:27.982180Z"
    }
   },
   "outputs": [],
   "source": [
    "def BatchStringGenerator(n, a=8, b=12):\n",
    "    r = []\n",
    "    for i in range(n):\n",
    "        c = None\n",
    "        if a < b:\n",
    "            import random\n",
    "            c = random.choice(range(a, b))\n",
    "        elif a == b:\n",
    "            c = a\n",
    "        else:\n",
    "            import sys\n",
    "            sys.exit('Incorrect min and max string lengths. Try again.')\n",
    "        r.append(RandomStringGenerator(c))\n",
    "    return r"
   ]
  },
  {
   "cell_type": "code",
   "execution_count": 3,
   "metadata": {},
   "outputs": [
    {
     "name": "stdout",
     "output_type": "stream",
     "text": [
      "Enter minimum string length: 3\n",
      "Enter maximum string length: 8\n",
      "How many random strings to generate? 4\n",
      "['xbml5g', 'q1x97l', 'o81s', 'ftbtu']\n"
     ]
    }
   ],
   "source": [
    "a = input('Enter minimum string length: ')\n",
    "b = input('Enter maximum string length: ')\n",
    "n = input('How many random strings to generate? ')\n",
    "\n",
    "print(BatchStringGenerator(int(n), int(a), int(b)))"
   ]
  },
  {
   "cell_type": "code",
   "execution_count": 12,
   "metadata": {
    "ExecuteTime": {
     "end_time": "2020-02-15T00:54:01.685948Z",
     "start_time": "2020-02-15T00:53:58.912327Z"
    }
   },
   "outputs": [
    {
     "name": "stdout",
     "output_type": "stream",
     "text": [
      "Enter minimum string length: 3\n",
      "Enter maximum string length: 8\n",
      "How many random strings to generate? 5\n",
      "['ug15se', 'u9cx', '0xs', '26lnvk1', 'xkj']\n"
     ]
    }
   ],
   "source": [
    "import random\n",
    "import string\n",
    "\n",
    "def RandomStringGenerator(int_longitud=10):\n",
    "    #Genera una cadena random de una longitud en int_longitud\n",
    "    #Input: int_longitud - Longitud de la cadena que se quiere generar\n",
    "    #Output: Cadena random de string\n",
    "    choices = string.ascii_lowercase + string.digits\n",
    "    return ''.join(random.choice(choices) for i in range(int_longitud))\n",
    "\n",
    "def BatchStringGenerator(num_strings, num_min_len=8, num_max_len=12):\n",
    "    #Genera una lista de cadenas con un rango en una longitud\n",
    "    #Input: num_strings - numero de cadenas a generar\n",
    "    #num_min_len - Longitud de la cadena mínima\n",
    "    #num_max_len - Longitud de la cadena máxima\n",
    "    #Output: Lista de cadena random de strings\n",
    "    try:\n",
    "        return [RandomStringGenerator(random.choice(range(num_min_len, num_max_len))) for x in range(num_strings)] \n",
    "    except:\n",
    "        print('Incorrect min and max string lengths. Try again.')\n",
    "\n",
    "num_min_len = input('Enter minimum string length: ')\n",
    "num_max_len = input('Enter maximum string length: ')\n",
    "num_strings = input('How many random strings to generate? ')\n",
    "\n",
    "print(BatchStringGenerator(int(num_strings), int(num_min_len), int(num_max_len)))"
   ]
  }
 ],
 "metadata": {
  "kernelspec": {
   "display_name": "Python 3",
   "language": "python",
   "name": "python3"
  },
  "language_info": {
   "codemirror_mode": {
    "name": "ipython",
    "version": 3
   },
   "file_extension": ".py",
   "mimetype": "text/x-python",
   "name": "python",
   "nbconvert_exporter": "python",
   "pygments_lexer": "ipython3",
   "version": "3.7.1"
  },
  "latex_envs": {
   "LaTeX_envs_menu_present": true,
   "autoclose": false,
   "autocomplete": true,
   "bibliofile": "biblio.bib",
   "cite_by": "apalike",
   "current_citInitial": 1,
   "eqLabelWithNumbers": true,
   "eqNumInitial": 1,
   "hotkeys": {
    "equation": "Ctrl-E",
    "itemize": "Ctrl-I"
   },
   "labels_anchors": false,
   "latex_user_defs": false,
   "report_style_numbering": false,
   "user_envs_cfg": false
  },
  "toc": {
   "base_numbering": 1,
   "nav_menu": {},
   "number_sections": true,
   "sideBar": true,
   "skip_h1_title": false,
   "title_cell": "Table of Contents",
   "title_sidebar": "Contents",
   "toc_cell": false,
   "toc_position": {},
   "toc_section_display": true,
   "toc_window_display": false
  },
  "varInspector": {
   "cols": {
    "lenName": 16,
    "lenType": 16,
    "lenVar": 40
   },
   "kernels_config": {
    "python": {
     "delete_cmd_postfix": "",
     "delete_cmd_prefix": "del ",
     "library": "var_list.py",
     "varRefreshCmd": "print(var_dic_list())"
    },
    "r": {
     "delete_cmd_postfix": ") ",
     "delete_cmd_prefix": "rm(",
     "library": "var_list.r",
     "varRefreshCmd": "cat(var_dic_list()) "
    }
   },
   "types_to_exclude": [
    "module",
    "function",
    "builtin_function_or_method",
    "instance",
    "_Feature"
   ],
   "window_display": false
  }
 },
 "nbformat": 4,
 "nbformat_minor": 2
}
